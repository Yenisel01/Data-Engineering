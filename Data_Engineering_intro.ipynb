{
 "cells": [
  {
   "cell_type": "markdown",
   "metadata": {},
   "source": [
    "## Intro to data engineering example with data from mariadb and csv file"
   ]
  },
  {
   "cell_type": "markdown",
   "metadata": {},
   "source": [
    "### Load important packages and open a conection to the database"
   ]
  },
  {
   "cell_type": "code",
   "execution_count": 25,
   "metadata": {},
   "outputs": [],
   "source": [
    "import pandas as pd\n",
    "from datetime import datetime\n",
    "import time\n",
    "import os\n",
    "from apscheduler.schedulers.background import BackgroundScheduler\n",
    "import mariadb\n",
    "import sys\n",
    "\n",
    "# Connect to MariaDB Platform\n",
    "#try:\n",
    "#    conn = mariadb.connect(\n",
    "#        user=\"root\",\n",
    "#        password=\"\",\n",
    "#        host=\"127.0.0.1\",\n",
    "#        port=3306,\n",
    "#        database=\"test\"\n",
    "\n",
    "#    )\n",
    "#except mariadb.Error as e:\n",
    "#    print(f\"Error connecting to MariaDB Platform: {e}\")\n",
    "#    sys.exit(1)\n",
    "\n"
   ]
  },
  {
   "cell_type": "markdown",
   "metadata": {},
   "source": [
    "### Code in charge of the data wrangling operations: load, cleaning, join, aggregate using pandas"
   ]
  },
  {
   "cell_type": "code",
   "execution_count": 26,
   "metadata": {},
   "outputs": [
    {
     "name": "stdout",
     "output_type": "stream",
     "text": [
      "Data wrangling, the starting time is: 2020-09-21 09:22:06.790673\n",
      "      Name  DepartmentID  Budget\n",
      "0      Bob            31      27\n",
      "1   Marcel            33      46\n",
      "2     Lisa            33      32\n",
      "3   Thomas            33      25\n",
      "4      Tim            34      39\n",
      "5     Josh            34      32\n",
      "6  Raphael            36      50\n",
      "7      Dan            36     120\n",
      "  DepartamentName  DepartmentID\n",
      "0           Sales            31\n",
      "1       Marketing            33\n",
      "2  HumanResources            34\n",
      "3     DataScience            35\n"
     ]
    }
   ],
   "source": [
    "\n",
    "\n",
    "print('Data wrangling, the starting time is: %s' % datetime.now())\n",
    "\n",
    "# Get Cursor\n",
    "#db_cursor = conn.cursor()\n",
    "#db_cursor.execute(\n",
    "#   \"SELECT DepartamentName,DepartmentID FROM department\")\n",
    "#table_rows = db_cursor.fetchall()\n",
    "\n",
    "#df_depart = pd.DataFrame(table_rows, columns = [\"DepartamentName\", \"DepartmentID\"])\n",
    "\n",
    "df_depart = pd.read_csv('dpt.txt', encoding=\"ISO-8859-1\",\n",
    "                            sep=',')\n",
    "df_workers = pd.read_csv('wk.txt', encoding=\"ISO-8859-1\",\n",
    "                             sep=',')\n",
    "print(df_workers)\n",
    "print(df_depart)\n",
    "\n"
   ]
  },
  {
   "cell_type": "markdown",
   "metadata": {},
   "source": [
    "## Filtering"
   ]
  },
  {
   "cell_type": "code",
   "execution_count": 28,
   "metadata": {},
   "outputs": [
    {
     "name": "stdout",
     "output_type": "stream",
     "text": [
      "After filtering by budget\n",
      "      Name  DepartmentID  Budget\n",
      "0      Bob            31      27\n",
      "1   Marcel            33      46\n",
      "2     Lisa            33      32\n",
      "3   Thomas            33      25\n",
      "4      Tim            34      39\n",
      "5     Josh            34      32\n",
      "6  Raphael            36      50\n",
      "7      Dan            36     120\n"
     ]
    }
   ],
   "source": [
    "df_workers.filter(df_workers[\"Budget\"] > 10)\n",
    "print(\"After filtering by budget\")\n",
    "print(df_workers)\n"
   ]
  },
  {
   "cell_type": "markdown",
   "metadata": {},
   "source": [
    "## Aggregating"
   ]
  },
  {
   "cell_type": "code",
   "execution_count": 29,
   "metadata": {},
   "outputs": [
    {
     "name": "stdout",
     "output_type": "stream",
     "text": [
      "After aggregating budget\n",
      "     Budget\n",
      "sum     371\n",
      "min      25\n"
     ]
    }
   ],
   "source": [
    "df_aggregated = df_workers.agg({'Budget': ['sum', 'min']})\n",
    "print(\"After aggregating budget\")\n",
    "print(df_aggregated)\n"
   ]
  },
  {
   "cell_type": "markdown",
   "metadata": {},
   "source": [
    "## Inner Join"
   ]
  },
  {
   "cell_type": "code",
   "execution_count": 30,
   "metadata": {},
   "outputs": [
    {
     "name": "stdout",
     "output_type": "stream",
     "text": [
      "After Inner join\n",
      "  DepartamentName  DepartmentID    Name  Budget\n",
      "0           Sales            31     Bob      27\n",
      "1       Marketing            33  Marcel      46\n",
      "2       Marketing            33    Lisa      32\n",
      "3       Marketing            33  Thomas      25\n",
      "4  HumanResources            34     Tim      39\n",
      "5  HumanResources            34    Josh      32\n"
     ]
    }
   ],
   "source": [
    "\n",
    "df_inner = pd.merge(df_depart, df_workers, how='inner', on=\"DepartmentID\")\n",
    "    \n",
    "print(\"After Inner join\")    \n",
    "print(df_inner)\n",
    "    "
   ]
  },
  {
   "cell_type": "markdown",
   "metadata": {},
   "source": [
    "## Outer Join"
   ]
  },
  {
   "cell_type": "code",
   "execution_count": 31,
   "metadata": {
    "scrolled": true
   },
   "outputs": [
    {
     "name": "stdout",
     "output_type": "stream",
     "text": [
      "After Outer join\n",
      "  DepartamentName  DepartmentID     Name  Budget\n",
      "0           Sales            31      Bob    27.0\n",
      "1       Marketing            33   Marcel    46.0\n",
      "2       Marketing            33     Lisa    32.0\n",
      "3       Marketing            33   Thomas    25.0\n",
      "4  HumanResources            34      Tim    39.0\n",
      "5  HumanResources            34     Josh    32.0\n",
      "6     DataScience            35      NaN     NaN\n",
      "7             NaN            36  Raphael    50.0\n",
      "8             NaN            36      Dan   120.0\n"
     ]
    }
   ],
   "source": [
    "df_outer = pd.merge(df_depart, df_workers, how='outer', on=\"DepartmentID\")\n",
    "print(\"After Outer join\")    \n",
    "print(df_outer)\n"
   ]
  },
  {
   "cell_type": "markdown",
   "metadata": {},
   "source": [
    "## Left Join"
   ]
  },
  {
   "cell_type": "code",
   "execution_count": 32,
   "metadata": {},
   "outputs": [
    {
     "name": "stdout",
     "output_type": "stream",
     "text": [
      "After Left join\n",
      "  DepartamentName  DepartmentID    Name  Budget\n",
      "0           Sales            31     Bob    27.0\n",
      "1       Marketing            33  Marcel    46.0\n",
      "2       Marketing            33    Lisa    32.0\n",
      "3       Marketing            33  Thomas    25.0\n",
      "4  HumanResources            34     Tim    39.0\n",
      "5  HumanResources            34    Josh    32.0\n",
      "6     DataScience            35     NaN     NaN\n"
     ]
    }
   ],
   "source": [
    "df_left = pd.merge(df_depart, df_workers, how='left', on=\"DepartmentID\")\n",
    "print(\"After Left join\")        \n",
    "print(df_left)\n"
   ]
  },
  {
   "cell_type": "markdown",
   "metadata": {},
   "source": [
    "## Right Join"
   ]
  },
  {
   "cell_type": "code",
   "execution_count": 33,
   "metadata": {},
   "outputs": [
    {
     "name": "stdout",
     "output_type": "stream",
     "text": [
      "After right join\n",
      "  DepartamentName  DepartmentID     Name  Budget\n",
      "0           Sales            31      Bob      27\n",
      "1       Marketing            33   Marcel      46\n",
      "2       Marketing            33     Lisa      32\n",
      "3       Marketing            33   Thomas      25\n",
      "4  HumanResources            34      Tim      39\n",
      "5  HumanResources            34     Josh      32\n",
      "6             NaN            36  Raphael      50\n",
      "7             NaN            36      Dan     120\n"
     ]
    }
   ],
   "source": [
    "df_right = pd.merge(df_depart, df_workers, how='right', on=\"DepartmentID\")\n",
    "print(\"After right join\")        \n",
    "print(df_right)"
   ]
  },
  {
   "cell_type": "markdown",
   "metadata": {},
   "source": [
    "## Grouping"
   ]
  },
  {
   "cell_type": "code",
   "execution_count": 34,
   "metadata": {},
   "outputs": [
    {
     "name": "stdout",
     "output_type": "stream",
     "text": [
      "     Name  DepartmentID  Budget\n",
      "1  Marcel            33      46\n",
      "2    Lisa            33      32\n",
      "3  Thomas            33      25\n"
     ]
    }
   ],
   "source": [
    "    grouped = df_workers.groupby('DepartmentID')\n",
    "    print(grouped.get_group(33))\n",
    " "
   ]
  },
  {
   "cell_type": "markdown",
   "metadata": {},
   "source": [
    "## Concatenating"
   ]
  },
  {
   "cell_type": "code",
   "execution_count": 35,
   "metadata": {},
   "outputs": [
    {
     "name": "stdout",
     "output_type": "stream",
     "text": [
      "     Name DepartmentID\n",
      "1    Alex           33\n",
      "2     Amy           26\n",
      "3   Allen            4\n",
      "4   Alice           11\n",
      "5    Luis           34\n",
      "1  Martin            4\n",
      "2   Brian           32\n",
      "3  Daniel            6\n",
      "4     Ron           33\n",
      "5   Betty           16\n"
     ]
    }
   ],
   "source": [
    "one = pd.DataFrame({\n",
    "         'Name': ['Alex', 'Amy', 'Allen', 'Alice', 'Luis'],\n",
    "         'DepartmentID':['33','26','4','11','34']},\n",
    "         index=[1,2,3,4,5])\n",
    "two = pd.DataFrame({\n",
    "         'Name': ['Martin', 'Brian', 'Daniel', 'Ron', 'Betty'],\n",
    "         'DepartmentID':['4','32','6','33','16']},\n",
    "         index=[1,2,3,4,5])\n",
    "print(pd.concat([one,two]))\n"
   ]
  },
  {
   "cell_type": "markdown",
   "metadata": {},
   "source": [
    "## With scheduler"
   ]
  },
  {
   "cell_type": "code",
   "execution_count": 36,
   "metadata": {},
   "outputs": [
    {
     "name": "stdout",
     "output_type": "stream",
     "text": [
      "True\n",
      "Press Ctrl+Break to exit\n",
      "Data wrangling, the starting time is: 2020-09-21 09:23:37.154471\n",
      "      Name  DepartmentID  Budget\n",
      "0      Bob            31      27\n",
      "1   Marcel            33      46\n",
      "2     Lisa            33      32\n",
      "3   Thomas            33      25\n",
      "4      Tim            34      39\n",
      "5     Josh            34      32\n",
      "6  Raphael            36      50\n",
      "7      Dan            36     120\n",
      "  DepartamentName  DepartmentID\n",
      "0           Sales            31\n",
      "1       Marketing            33\n",
      "2  HumanResources            34\n",
      "3     DataScience            35\n",
      "Name            0\n",
      "DepartmentID    0\n",
      "Budget          0\n",
      "dtype: int64\n",
      "      Name  DepartmentID  Budget\n",
      "0      Bob            31      27\n",
      "1   Marcel            33      46\n",
      "2     Lisa            33      32\n",
      "3   Thomas            33      25\n",
      "4      Tim            34      39\n",
      "5     Josh            34      32\n",
      "6  Raphael            36      50\n",
      "7      Dan            36     120\n",
      "     Budget\n",
      "sum     371\n",
      "min      25\n",
      "  DepartamentName  DepartmentID    Name  Budget\n",
      "0           Sales            31     Bob      27\n",
      "1       Marketing            33  Marcel      46\n",
      "2       Marketing            33    Lisa      32\n",
      "3       Marketing            33  Thomas      25\n",
      "4  HumanResources            34     Tim      39\n",
      "5  HumanResources            34    Josh      32\n",
      "  DepartamentName  DepartmentID     Name  Budget\n",
      "0           Sales            31      Bob    27.0\n",
      "1       Marketing            33   Marcel    46.0\n",
      "2       Marketing            33     Lisa    32.0\n",
      "3       Marketing            33   Thomas    25.0\n",
      "4  HumanResources            34      Tim    39.0\n",
      "5  HumanResources            34     Josh    32.0\n",
      "6     DataScience            35      NaN     NaN\n",
      "7             NaN            36  Raphael    50.0\n",
      "8             NaN            36      Dan   120.0\n",
      "  DepartamentName  DepartmentID    Name  Budget\n",
      "0           Sales            31     Bob    27.0\n",
      "1       Marketing            33  Marcel    46.0\n",
      "2       Marketing            33    Lisa    32.0\n",
      "3       Marketing            33  Thomas    25.0\n",
      "4  HumanResources            34     Tim    39.0\n",
      "5  HumanResources            34    Josh    32.0\n",
      "6     DataScience            35     NaN     NaN\n",
      "  DepartamentName  DepartmentID     Name  Budget\n",
      "0           Sales            31      Bob      27\n",
      "1       Marketing            33   Marcel      46\n",
      "2       Marketing            33     Lisa      32\n",
      "3       Marketing            33   Thomas      25\n",
      "4  HumanResources            34      Tim      39\n",
      "5  HumanResources            34     Josh      32\n",
      "6             NaN            36  Raphael      50\n",
      "7             NaN            36      Dan     120\n",
      "     Name  DepartmentID  Budget\n",
      "1  Marcel            33      46\n",
      "2    Lisa            33      32\n",
      "3  Thomas            33      25\n",
      "     Name DepartmentID\n",
      "1    Alex           33\n",
      "2     Amy           26\n",
      "3   Allen            4\n",
      "4   Alice           11\n",
      "5    Luis           34\n",
      "1  Martin            4\n",
      "2   Brian           32\n",
      "3  Daniel            6\n",
      "4     Ron           33\n",
      "5   Betty           16\n",
      "Data wrangling, the starting time is: 2020-09-21 09:23:55.161230\n",
      "      Name  DepartmentID  Budget\n",
      "0      Bob            31      27\n",
      "1   Marcel            33      46\n",
      "2     Lisa            33      32\n",
      "3   Thomas            33      25\n",
      "4      Tim            34      39\n",
      "5     Josh            34      32\n",
      "6  Raphael            36      50\n",
      "7      Dan            36     120\n",
      "  DepartamentName  DepartmentID\n",
      "0           Sales            31\n",
      "1       Marketing            33\n",
      "2  HumanResources            34\n",
      "3     DataScience            35\n",
      "Name            0\n",
      "DepartmentID    0\n",
      "Budget          0\n",
      "dtype: int64\n",
      "      Name  DepartmentID  Budget\n",
      "0      Bob            31      27\n",
      "1   Marcel            33      46\n",
      "2     Lisa            33      32\n",
      "3   Thomas            33      25\n",
      "4      Tim            34      39\n",
      "5     Josh            34      32\n",
      "6  Raphael            36      50\n",
      "7      Dan            36     120\n",
      "     Budget\n",
      "sum     371\n",
      "min      25\n",
      "  DepartamentName  DepartmentID    Name  Budget\n",
      "0           Sales            31     Bob      27\n",
      "1       Marketing            33  Marcel      46\n",
      "2       Marketing            33    Lisa      32\n",
      "3       Marketing            33  Thomas      25\n",
      "4  HumanResources            34     Tim      39\n",
      "5  HumanResources            34    Josh      32\n",
      "  DepartamentName  DepartmentID     Name  Budget\n",
      "0           Sales            31      Bob    27.0\n",
      "1       Marketing            33   Marcel    46.0\n",
      "2       Marketing            33     Lisa    32.0\n",
      "3       Marketing            33   Thomas    25.0\n",
      "4  HumanResources            34      Tim    39.0\n",
      "5  HumanResources            34     Josh    32.0\n",
      "6     DataScience            35      NaN     NaN\n",
      "7             NaN            36  Raphael    50.0\n",
      "8             NaN            36      Dan   120.0\n",
      "  DepartamentName  DepartmentID    Name  Budget\n",
      "0           Sales            31     Bob    27.0\n",
      "1       Marketing            33  Marcel    46.0\n",
      "2       Marketing            33    Lisa    32.0\n",
      "3       Marketing            33  Thomas    25.0\n",
      "4  HumanResources            34     Tim    39.0\n",
      "5  HumanResources            34    Josh    32.0\n",
      "6     DataScience            35     NaN     NaN\n",
      "  DepartamentName  DepartmentID     Name  Budget\n",
      "0           Sales            31      Bob      27\n",
      "1       Marketing            33   Marcel      46\n",
      "2       Marketing            33     Lisa      32\n",
      "3       Marketing            33   Thomas      25\n",
      "4  HumanResources            34      Tim      39\n",
      "5  HumanResources            34     Josh      32\n",
      "6             NaN            36  Raphael      50\n",
      "7             NaN            36      Dan     120\n",
      "     Name  DepartmentID  Budget\n",
      "1  Marcel            33      46\n",
      "2    Lisa            33      32\n",
      "3  Thomas            33      25\n",
      "     Name DepartmentID\n",
      "1    Alex           33\n",
      "2     Amy           26\n",
      "3   Allen            4\n",
      "4   Alice           11\n",
      "5    Luis           34\n",
      "1  Martin            4\n",
      "2   Brian           32\n",
      "3  Daniel            6\n",
      "4     Ron           33\n",
      "5   Betty           16\n"
     ]
    }
   ],
   "source": [
    "\n",
    "def move_data():\n",
    "    print('Data wrangling, the starting time is: %s' % datetime.now())\n",
    "\n",
    "\n",
    "#    db_cursor = conn.cursor()\n",
    "#   db_cursor.execute(\n",
    "#       \"SELECT DepartamentName,DepartmentID FROM department\")\n",
    "#   table_rows = db_cursor.fetchall()\n",
    "\n",
    "#   df_depart = pd.DataFrame(table_rows, columns = [\"DepartamentName\", \"DepartmentID\"])\n",
    "\n",
    "    df_depart = pd.read_csv('dpt.txt', encoding=\"ISO-8859-1\",\n",
    "                            sep=',')\n",
    "    df_workers = pd.read_csv('wk.txt', encoding=\"ISO-8859-1\",\n",
    "                             sep=',')\n",
    "    print(df_workers)\n",
    "    print(df_depart)\n",
    "    print(df_workers.isnull().sum())\n",
    "    df_workers.filter(df_workers[\"Budget\"] > 10)\n",
    "    print(df_workers)\n",
    "    df_aggregated = df_workers.agg({'Budget': ['sum', 'min']})\n",
    "    print(df_aggregated)\n",
    "\n",
    "    df_inner = pd.merge(df_depart, df_workers, how='inner', on=\"DepartmentID\")\n",
    "    print(df_inner)\n",
    "    df_outer = pd.merge(df_depart, df_workers, how='outer', on=\"DepartmentID\")\n",
    "    print(df_outer)\n",
    "    df_left = pd.merge(df_depart, df_workers, how='left', on=\"DepartmentID\")\n",
    "    print(df_left)\n",
    "    df_right = pd.merge(df_depart, df_workers, how='right', on=\"DepartmentID\")\n",
    "    print(df_right)\n",
    "    df_right.to_csv('df_right_join.txt', sep='\\t', index=False)\n",
    "\n",
    "    grouped = df_workers.groupby('DepartmentID')\n",
    "    print(grouped.get_group(33))\n",
    "\n",
    "    one = pd.DataFrame({\n",
    "         'Name': ['Alex', 'Amy', 'Allen', 'Alice', 'Luis'],\n",
    "         'DepartmentID':['33','26','4','11','34']},\n",
    "         index=[1,2,3,4,5])\n",
    "    two = pd.DataFrame({\n",
    "         'Name': ['Martin', 'Brian', 'Daniel', 'Ron', 'Betty'],\n",
    "         'DepartmentID':['4','32','6','33','16']},\n",
    "         index=[1,2,3,4,5])\n",
    "    print(pd.concat([one,two]))\n",
    "\n",
    "if __name__ == '__main__':\n",
    "    scheduler = BackgroundScheduler()\n",
    "    moveData = move_data\n",
    "    print(callable(moveData))\n",
    "    scheduler.add_job(moveData, 'interval', hours=0.005)\n",
    "    scheduler.start()\n",
    "    print('Press Ctrl+{0} to exit'.format('Break' if os.name == 'nt' else 'C'))\n",
    "\n",
    "    try:\n",
    "        # This is here to simulate application activity (which keeps the main thread alive).\n",
    "        while True:\n",
    "            time.sleep(2)\n",
    "    except (KeyboardInterrupt, SystemExit):\n",
    "        # Not strictly necessary if daemonic mode is enabled but should be done if possible\n",
    "        scheduler.shutdown()\n"
   ]
  },
  {
   "cell_type": "code",
   "execution_count": null,
   "metadata": {},
   "outputs": [],
   "source": []
  },
  {
   "cell_type": "code",
   "execution_count": null,
   "metadata": {},
   "outputs": [],
   "source": []
  }
 ],
 "metadata": {
  "kernelspec": {
   "display_name": "Python 3",
   "language": "python",
   "name": "python3"
  },
  "language_info": {
   "codemirror_mode": {
    "name": "ipython",
    "version": 3
   },
   "file_extension": ".py",
   "mimetype": "text/x-python",
   "name": "python",
   "nbconvert_exporter": "python",
   "pygments_lexer": "ipython3",
   "version": "3.7.4"
  }
 },
 "nbformat": 4,
 "nbformat_minor": 2
}
